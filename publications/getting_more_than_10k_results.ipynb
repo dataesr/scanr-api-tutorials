{
 "cells": [
  {
   "cell_type": "code",
   "execution_count": 1,
   "id": "e38a66fc",
   "metadata": {},
   "outputs": [],
   "source": [
    "from dotenv import load_dotenv\n",
    "from elasticsearch import Elasticsearch\n",
    "import requests, os\n",
    "import pandas as pd"
   ]
  },
  {
   "cell_type": "code",
   "execution_count": 2,
   "id": "b7a7ce7d",
   "metadata": {},
   "outputs": [],
   "source": [
    "# You need to add the infos in the .env file\n",
    "load_dotenv()\n",
    "\n",
    "ES_HOST = os.getenv(\"ES_HOST\")\n",
    "ES_PASSWORD = os.getenv(\"ES_PASSWORD\")\n",
    "ES_USER = os.getenv(\"ES_USER\")\n",
    "es = Elasticsearch(ES_HOST, http_auth=(ES_USER, ES_PASSWORD))\n",
    "INDEX_PUBLICATIONS = f'{ES_HOST}/scanr-publications'"
   ]
  },
  {
   "cell_type": "code",
   "execution_count": 3,
   "id": "9b9f73bb",
   "metadata": {},
   "outputs": [],
   "source": [
    "# See complete doc \n",
    "# https://www.elastic.co/guide/en/elasticsearch/reference/8.11/paginate-search-results.html#search-after\n",
    "\n",
    "# To get more than 10k results, it is possible to use the 'search_after' feature. \n",
    "# This needs to get all documents sorted. To make sure the order remains consistent\n",
    "# with mutiple requests, a PIT (point in time) has to be generated, and deleted at the end.\n",
    "\n",
    "def get_pit():\n",
    "    r = requests.post(f'{INDEX_PUBLICATIONS}/_pit?keep_alive=1m', auth=(ES_USER, ES_PASSWORD))\n",
    "    pit = r.json()['id']\n",
    "    return pit\n",
    "\n",
    "def delete_pit(pit):\n",
    "    requests.delete(f'{ES_HOST}/_pit', json={\"id\": pit}, auth=(ES_USER, ES_PASSWORD))"
   ]
  },
  {
   "cell_type": "code",
   "execution_count": 4,
   "id": "8b72e07f",
   "metadata": {},
   "outputs": [],
   "source": [
    "def get_all_results(query):\n",
    "    pit = get_pit()\n",
    "    all_data = []\n",
    "    last_sort = None\n",
    "    body = {\n",
    "        \"size\": 1000,\n",
    "        \"query\": query,\n",
    "        \"sort\": [{\"year\": \"asc\", \"id.keyword\": \"asc\"}],\n",
    "        \"track_total_hits\": False                        \n",
    "    }\n",
    "    for p in range(0, 100):\n",
    "        if last_sort:\n",
    "            body['search_after'] = last_sort\n",
    "        body['pit'] = {'id': pit, \"keep_alive\": \"1m\"}\n",
    "        r_tmp = requests.post(f'{ES_HOST}/_search', json=body, auth=(ES_USER, ES_PASSWORD))\n",
    "        current_res = r_tmp.json()\n",
    "        current_hits = current_res['hits']['hits']\n",
    "        if len(current_hits)==0:\n",
    "            break\n",
    "        all_data += [k['_source'] for k in current_hits]\n",
    "        last_sort = current_hits[-1]['sort']\n",
    "        print(len(all_data), end=',')\n",
    "    delete_pit(pit)\n",
    "    print()\n",
    "    print(f'{len(all_data)} records have been retrieved')\n",
    "    return all_data"
   ]
  },
  {
   "cell_type": "code",
   "execution_count": 5,
   "id": "414dd2a2",
   "metadata": {},
   "outputs": [],
   "source": [
    "# Example of a query: get all publications, flagged with bso_local_affiliation 180070039, in 2023\n",
    "query = { \n",
    "    \"bool\":{ \n",
    "        \"must\": [\n",
    "            {\"term\": {\"bso_local_affiliations.keyword\":\"180070039\"}},\n",
    "            {'range': {'year': {'gte': 2020, 'lte': 2024}}}\n",
    "        ]\n",
    "    }\n",
    "}"
   ]
  },
  {
   "cell_type": "code",
   "execution_count": 6,
   "id": "33f1e851",
   "metadata": {},
   "outputs": [
    {
     "name": "stdout",
     "output_type": "stream",
     "text": [
      "1000,2000,3000,4000,5000,6000,7000,8000,9000,10000,11000,12000,13000,14000,15000,16000,17000,18000,19000,20000,21000,22000,23000,24000,25000,26000,27000,28000,29000,30000,31000,32000,33000,34000,35000,36000,37000,38000,39000,40000,41000,42000,43000,44000,45000,46000,47000,48000,49000,50000,51000,52000,53000,54000,55000,56000,57000,58000,59000,60000,61000,62000,63000,64000,65000,66000,67000,68000,69000,70000,70036,\n",
      "70036 records have been retrieved\n"
     ]
    }
   ],
   "source": [
    "all_data = get_all_results(query)\n",
    "df = pd.DataFrame(all_data)"
   ]
  },
  {
   "cell_type": "code",
   "execution_count": 13,
   "id": "b143e3a4",
   "metadata": {},
   "outputs": [
    {
     "data": {
      "text/html": [
       "<div>\n",
       "<style scoped>\n",
       "    .dataframe tbody tr th:only-of-type {\n",
       "        vertical-align: middle;\n",
       "    }\n",
       "\n",
       "    .dataframe tbody tr th {\n",
       "        vertical-align: top;\n",
       "    }\n",
       "\n",
       "    .dataframe thead th {\n",
       "        text-align: right;\n",
       "    }\n",
       "</style>\n",
       "<table border=\"1\" class=\"dataframe\">\n",
       "  <thead>\n",
       "    <tr style=\"text-align: right;\">\n",
       "      <th></th>\n",
       "      <th>id</th>\n",
       "      <th>predict_teds</th>\n",
       "      <th>title</th>\n",
       "      <th>summary</th>\n",
       "      <th>doiUrl</th>\n",
       "      <th>externalIds</th>\n",
       "      <th>year</th>\n",
       "      <th>publicationDate</th>\n",
       "      <th>type</th>\n",
       "      <th>productionType</th>\n",
       "      <th>...</th>\n",
       "      <th>software</th>\n",
       "      <th>co_authors</th>\n",
       "      <th>co_institutions</th>\n",
       "      <th>co_domains</th>\n",
       "      <th>co_countries</th>\n",
       "      <th>projects</th>\n",
       "      <th>co_software</th>\n",
       "      <th>co_projects</th>\n",
       "      <th>acknowledgments</th>\n",
       "      <th>tags</th>\n",
       "    </tr>\n",
       "  </thead>\n",
       "  <tbody>\n",
       "    <tr>\n",
       "      <th>8006</th>\n",
       "      <td>doi10.1146/annurev-cellbio-012820-103850</td>\n",
       "      <td>[{'label': 'not_ipcc', 'probability': 0.976934...</td>\n",
       "      <td>{'default': 'Shaping Organs: Shared Structural...</td>\n",
       "      <td>{'default': 'Development encapsulates the morp...</td>\n",
       "      <td>http://doi.org/10.1146/annurev-cellbio-012820-...</td>\n",
       "      <td>[{'type': 'doi', 'id': '10.1146/annurev-cellbi...</td>\n",
       "      <td>2020</td>\n",
       "      <td>2020-10-06T00:00:00</td>\n",
       "      <td>journal-article</td>\n",
       "      <td>publication</td>\n",
       "      <td>...</td>\n",
       "      <td>NaN</td>\n",
       "      <td>[idref08943868X###Olivier Hamant###FR---idref2...</td>\n",
       "      <td>[130008121###FR_Ecole normale supérieure de Ly...</td>\n",
       "      <td>[Q1172449###encapsulates---Q11936292###mechano...</td>\n",
       "      <td>[France---Singapore]</td>\n",
       "      <td>NaN</td>\n",
       "      <td>NaN</td>\n",
       "      <td>NaN</td>\n",
       "      <td>NaN</td>\n",
       "      <td>NaN</td>\n",
       "    </tr>\n",
       "  </tbody>\n",
       "</table>\n",
       "<p>1 rows × 35 columns</p>\n",
       "</div>"
      ],
      "text/plain": [
       "                                            id  \\\n",
       "8006  doi10.1146/annurev-cellbio-012820-103850   \n",
       "\n",
       "                                           predict_teds  \\\n",
       "8006  [{'label': 'not_ipcc', 'probability': 0.976934...   \n",
       "\n",
       "                                                  title  \\\n",
       "8006  {'default': 'Shaping Organs: Shared Structural...   \n",
       "\n",
       "                                                summary  \\\n",
       "8006  {'default': 'Development encapsulates the morp...   \n",
       "\n",
       "                                                 doiUrl  \\\n",
       "8006  http://doi.org/10.1146/annurev-cellbio-012820-...   \n",
       "\n",
       "                                            externalIds  year  \\\n",
       "8006  [{'type': 'doi', 'id': '10.1146/annurev-cellbi...  2020   \n",
       "\n",
       "          publicationDate             type productionType  ... software  \\\n",
       "8006  2020-10-06T00:00:00  journal-article    publication  ...      NaN   \n",
       "\n",
       "                                             co_authors  \\\n",
       "8006  [idref08943868X###Olivier Hamant###FR---idref2...   \n",
       "\n",
       "                                        co_institutions  \\\n",
       "8006  [130008121###FR_Ecole normale supérieure de Ly...   \n",
       "\n",
       "                                             co_domains          co_countries  \\\n",
       "8006  [Q1172449###encapsulates---Q11936292###mechano...  [France---Singapore]   \n",
       "\n",
       "     projects co_software co_projects acknowledgments tags  \n",
       "8006      NaN         NaN         NaN             NaN  NaN  \n",
       "\n",
       "[1 rows x 35 columns]"
      ]
     },
     "execution_count": 13,
     "metadata": {},
     "output_type": "execute_result"
    }
   ],
   "source": [
    "df.sample()"
   ]
  },
  {
   "cell_type": "code",
   "execution_count": 15,
   "id": "c1a68360",
   "metadata": {},
   "outputs": [],
   "source": [
    "df.to_json('data_from_scanr.json', orient='records')"
   ]
  }
 ],
 "metadata": {
  "kernelspec": {
   "display_name": "Python 3",
   "language": "python",
   "name": "python3"
  },
  "language_info": {
   "codemirror_mode": {
    "name": "ipython",
    "version": 3
   },
   "file_extension": ".py",
   "mimetype": "text/x-python",
   "name": "python",
   "nbconvert_exporter": "python",
   "pygments_lexer": "ipython3",
   "version": "3.9.18"
  }
 },
 "nbformat": 4,
 "nbformat_minor": 5
}
